{
 "cells": [
  {
   "cell_type": "markdown",
   "id": "614702dc",
   "metadata": {},
   "source": [
    "#### <b> ML Interoperability with ONNX on Vertex AI: </b>\n",
    " 1. Convert BQML/AutoML model into a tensorflow package (via GUI) and call the tensorflow model via tensorflow serving client\n",
    " 2. Convert Tensorflow model into ONNX "
   ]
  },
  {
   "cell_type": "code",
   "execution_count": 14,
   "id": "00d82e2c",
   "metadata": {},
   "outputs": [
    {
     "name": "stdout",
     "output_type": "stream",
     "text": [
      "gs://bonibon/model/model-export/fraud/bqml-reg/\n",
      "gs://bonibon/model/model-export/fraud/bqml-reg/saved_model.pb\n",
      "gs://bonibon/model/model-export/fraud/bqml-reg/variables/\n"
     ]
    }
   ],
   "source": [
    "# Export BQML model into GCS.\n",
    "!gsutil ls \"gs://bonibon/model/model-export/fraud/bqml-reg\""
   ]
  },
  {
   "cell_type": "code",
   "execution_count": 20,
   "id": "c5834357",
   "metadata": {},
   "outputs": [
    {
     "name": "stdout",
     "output_type": "stream",
     "text": [
      "The given SavedModel MetaGraphDef contains SignatureDefs with the following keys:\n",
      "SignatureDef key: \"serving_default\"\n"
     ]
    }
   ],
   "source": [
    "# Read the BQML model signature for serving.\n",
    "!saved_model_cli show --dir gs://bonibon/model/model-export/fraud/bqml-reg --tag_set serve"
   ]
  },
  {
   "cell_type": "code",
   "execution_count": 15,
   "id": "0ad5f858",
   "metadata": {},
   "outputs": [
    {
     "name": "stdout",
     "output_type": "stream",
     "text": [
      "{'isFraud_values': <tf.Tensor: id=2247, shape=(1, 2), dtype=string, numpy=array([[b'1', b'0']], dtype=object)>, 'isFraud_probs': <tf.Tensor: id=2246, shape=(1, 2), dtype=float64, numpy=array([[0.0155844, 0.9844156]])>, 'predicted_isFraud': <tf.Tensor: id=2248, shape=(1, 1), dtype=string, numpy=array([[b'0']], dtype=object)>}\n"
     ]
    }
   ],
   "source": [
    "# Call tensorfow serving - option1\n",
    "import tensorflow as tf\n",
    "path=\"gs://bonibon/model/model-export/fraud/bqml-reg\"\n",
    "#path=\"gs://bonibon/model/model-export/pmml/onnx_test_automl/model-6930059062151217152/tf-saved-model/2021-11-08T15:35:56.620287Z/predict/001\"\n",
    "imported = tf.saved_model.load(path)\n",
    "f = imported.signatures[\"serving_default\"]\n",
    "print(f(oldbalanceOrig=tf.constant([[1.]]),oldbalanceDest=tf.constant([[1.]]), amount=tf.constant([[1.]])))"
   ]
  },
  {
   "cell_type": "code",
   "execution_count": 17,
   "id": "624dd503",
   "metadata": {},
   "outputs": [
    {
     "name": "stdout",
     "output_type": "stream",
     "text": [
      "2021-11-08 19:07:14.689055: I tensorflow/core/platform/cpu_feature_guard.cc:142] Your CPU supports instructions that this TensorFlow binary was not compiled to use: AVX2 FMA\n",
      "2021-11-08 19:07:14.697406: I tensorflow/core/platform/profile_utils/cpu_utils.cc:94] CPU Frequency: 2199995000 Hz\n",
      "2021-11-08 19:07:14.697842: I tensorflow/compiler/xla/service/service.cc:168] XLA service 0x55a77e2851e0 executing computations on platform Host. Devices:\n",
      "2021-11-08 19:07:14.697895: I tensorflow/compiler/xla/service/service.cc:175]   StreamExecutor device (0): Host, Default Version\n",
      "WARNING:tensorflow:From /opt/conda/lib/python3.7/site-packages/tensorflow_core/python/tools/saved_model_cli.py:339: load (from tensorflow.python.saved_model.loader_impl) is deprecated and will be removed in a future version.\n",
      "Instructions for updating:\n",
      "This function will only be available through the v1 compatibility library as tf.compat.v1.saved_model.loader.load or tf.compat.v1.saved_model.load. There will be a new function for importing SavedModels in Tensorflow 2.0.\n",
      "Result for output key isFraud_probs:\n",
      "[[0.01558435 0.98441565]]\n",
      "Result for output key isFraud_values:\n",
      "[[b'1' b'0']]\n",
      "Result for output key predicted_isFraud:\n",
      "[[b'0']]\n"
     ]
    }
   ],
   "source": [
    "# Call tensorfow serving - option2\n",
    "!saved_model_cli run --dir \"gs://bonibon/model/model-export/fraud/bqml-reg/\" --tag_set serve --signature_def \"serving_default\" --input_exprs 'oldbalanceDest=[0.01];amount=[0.0];oldbalanceOrig=[0.1]' "
   ]
  },
  {
   "cell_type": "markdown",
   "id": "6c96cac5",
   "metadata": {},
   "source": [
    "https://www.tensorflow.org/tfx/guide/serving"
   ]
  },
  {
   "cell_type": "code",
   "execution_count": 21,
   "id": "4ea9d1a2",
   "metadata": {},
   "outputs": [],
   "source": [
    "#!pip install -U tf2onnx"
   ]
  },
  {
   "cell_type": "code",
   "execution_count": 18,
   "id": "4315b0eb",
   "metadata": {},
   "outputs": [
    {
     "name": "stdout",
     "output_type": "stream",
     "text": [
      "/opt/conda/lib/python3.7/runpy.py:125: RuntimeWarning: 'tf2onnx.convert' found in sys.modules after import of package 'tf2onnx', but prior to execution of 'tf2onnx.convert'; this may result in unpredictable behaviour\n",
      "  warn(RuntimeWarning(msg))\n",
      "WARNING:tensorflow:From /opt/conda/lib/python3.7/site-packages/tensorflow_core/python/ops/resource_variable_ops.py:1781: calling BaseResourceVariable.__init__ (from tensorflow.python.ops.resource_variable_ops) with constraint is deprecated and will be removed in a future version.\n",
      "Instructions for updating:\n",
      "If using Keras pass *_constraint arguments to layers.\n",
      "2021-11-08 19:07:31,721 - WARNING - From /opt/conda/lib/python3.7/site-packages/tensorflow_core/python/ops/resource_variable_ops.py:1781: calling BaseResourceVariable.__init__ (from tensorflow.python.ops.resource_variable_ops) with constraint is deprecated and will be removed in a future version.\n",
      "Instructions for updating:\n",
      "If using Keras pass *_constraint arguments to layers.\n",
      "2021-11-08 19:07:32,766 - INFO - Signatures found in model: [serving_default].\n",
      "2021-11-08 19:07:32,766 - WARNING - '--signature_def' not specified, using first signature: serving_default\n",
      "2021-11-08 19:07:32,766 - INFO - Output names: ['isFraud_probs', 'isFraud_values', 'predicted_isFraud']\n",
      "WARNING:tensorflow:Issue encountered when serializing variables.\n",
      "Type is unsupported, or the types of the items don't match field type in CollectionDef. Note this is a warning and probably safe to ignore.\n",
      "to_proto not supported in EAGER mode.\n",
      "2021-11-08 19:07:32,769 - WARNING - Issue encountered when serializing variables.\n",
      "Type is unsupported, or the types of the items don't match field type in CollectionDef. Note this is a warning and probably safe to ignore.\n",
      "to_proto not supported in EAGER mode.\n",
      "WARNING:tensorflow:Issue encountered when serializing trainable_variables.\n",
      "Type is unsupported, or the types of the items don't match field type in CollectionDef. Note this is a warning and probably safe to ignore.\n",
      "to_proto not supported in EAGER mode.\n",
      "2021-11-08 19:07:32,769 - WARNING - Issue encountered when serializing trainable_variables.\n",
      "Type is unsupported, or the types of the items don't match field type in CollectionDef. Note this is a warning and probably safe to ignore.\n",
      "to_proto not supported in EAGER mode.\n",
      "WARNING:tensorflow:From /opt/conda/lib/python3.7/site-packages/tf2onnx/tf_loader.py:703: extract_sub_graph (from tensorflow.python.framework.graph_util_impl) is deprecated and will be removed in a future version.\n",
      "Instructions for updating:\n",
      "Use `tf.compat.v1.graph_util.extract_sub_graph`\n",
      "2021-11-08 19:07:32,850 - WARNING - From /opt/conda/lib/python3.7/site-packages/tf2onnx/tf_loader.py:703: extract_sub_graph (from tensorflow.python.framework.graph_util_impl) is deprecated and will be removed in a future version.\n",
      "Instructions for updating:\n",
      "Use `tf.compat.v1.graph_util.extract_sub_graph`\n",
      "2021-11-08 19:07:32,881 - INFO - Using tensorflow=2.0.0, onnx=1.10.2, tf2onnx=1.9.2/0f28b7\n",
      "2021-11-08 19:07:32,882 - INFO - Using opset <onnx, 9>\n",
      "2021-11-08 19:07:32,915 - INFO - Computed 1 values for constant folding\n",
      "2021-11-08 19:07:32,933 - INFO - folding node using tf type=ExpandDims, name=ExpandDims\n",
      "2021-11-08 19:07:32,948 - WARNING - For now, onnxruntime only support float32 type for Gemm rewriter\n",
      "2021-11-08 19:07:33,020 - INFO - Optimizing ONNX model\n",
      "2021-11-08 19:07:33,458 - INFO - After optimization: Cast -8 (17->9), Concat -5 (10->5), Const -27 (37->10), Identity -5 (10->5), Reshape -1 (6->5), Shape -4 (8->4), Slice -6 (9->3), Squeeze -4 (7->3), Unsqueeze -8 (13->5)\n",
      "2021-11-08 19:07:33,464 - INFO - \n",
      "2021-11-08 19:07:33,465 - INFO - Successfully converted TensorFlow model gs://bonibon/model/model-export/fraud/bqml-reg to ONNX\n",
      "2021-11-08 19:07:33,465 - INFO - Model inputs: ['oldbalanceOrig:0', 'amount:0', 'oldbalanceDest:0']\n",
      "2021-11-08 19:07:33,465 - INFO - Model outputs: ['isFraud_probs', 'isFraud_values', 'predicted_isFraud']\n",
      "2021-11-08 19:07:33,465 - INFO - ONNX model is saved at model.onnx\n"
     ]
    }
   ],
   "source": [
    "# Convert tensorflow model into ONNX.\n",
    "!python -m tf2onnx.convert --saved-model \"gs://bonibon/model/model-export/fraud/bqml-reg\" --output model.onnx --tag serve"
   ]
  },
  {
   "cell_type": "code",
   "execution_count": 19,
   "id": "23f9f549",
   "metadata": {},
   "outputs": [
    {
     "name": "stdout",
     "output_type": "stream",
     "text": [
      "total 60\n",
      "drwxr-xr-x  4 jupyter jupyter  4096 Nov  8 19:06 .\n",
      "drwxr-xr-x 14 jupyter jupyter  4096 Nov  4 20:27 ..\n",
      "drwxr-xr-x  2 jupyter jupyter  4096 Nov  8 17:48 .ipynb_checkpoints\n",
      "drwxr-xr-x  2 jupyter jupyter  4096 Nov  4 20:37 model\n",
      "-rw-r--r--  1 jupyter jupyter  5937 Nov  8 19:07 model.onnx\n",
      "-rw-r--r--  1 jupyter jupyter 12171 Nov  8 17:49 vertex-onnx-conversion-automl.ipynb\n",
      "-rw-r--r--  1 jupyter jupyter 12119 Nov  8 19:06 vertex-onnx-conversion-bqml-reg-Copy1.ipynb\n",
      "-rw-r--r--  1 jupyter jupyter 11532 Nov  8 15:43 vertex-onnx-conversion-bqml-reg.ipynb\n"
     ]
    }
   ],
   "source": [
    "!ls -la"
   ]
  },
  {
   "cell_type": "code",
   "execution_count": 69,
   "id": "0bfe634f",
   "metadata": {},
   "outputs": [],
   "source": [
    "# The end."
   ]
  }
 ],
 "metadata": {
  "environment": {
   "name": "tf2-gpu.2-3.m76",
   "type": "gcloud",
   "uri": "gcr.io/deeplearning-platform-release/tf2-gpu.2-3:m76"
  },
  "kernelspec": {
   "display_name": "Python 3",
   "language": "python",
   "name": "python3"
  },
  "language_info": {
   "codemirror_mode": {
    "name": "ipython",
    "version": 3
   },
   "file_extension": ".py",
   "mimetype": "text/x-python",
   "name": "python",
   "nbconvert_exporter": "python",
   "pygments_lexer": "ipython3",
   "version": "3.7.10"
  }
 },
 "nbformat": 4,
 "nbformat_minor": 5
}
